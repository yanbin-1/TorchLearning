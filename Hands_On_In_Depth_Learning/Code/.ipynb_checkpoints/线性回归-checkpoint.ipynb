{
 "cells": [
  {
   "cell_type": "code",
   "execution_count": 27,
   "id": "59a136c1",
   "metadata": {},
   "outputs": [],
   "source": [
    "import numpy as np\n",
    "import torch\n",
    "from torch.utils import data\n",
    "from d2l import torch as d2l\n",
    "\n",
    "# 数据生成\n",
    "true_w = torch.tensor([2, -3.4])\n",
    "true_b = 4.2\n",
    "features, labels = d2l.synthetic_data(true_w, true_b, 1000)  # 生成随机噪声数据\n",
    "input_num = features.shape[1]\n",
    "output_num = labels.shape[1]"
   ]
  },
  {
   "cell_type": "code",
   "execution_count": 28,
   "id": "634f5521",
   "metadata": {},
   "outputs": [
    {
     "name": "stdout",
     "output_type": "stream",
     "text": [
      "Help on function synthetic_data in module d2l.torch:\n",
      "\n",
      "synthetic_data(w, b, num_examples)\n",
      "    Generate y = Xw + b + noise.\n",
      "    \n",
      "    Defined in :numref:`sec_linear_scratch`\n",
      "\n"
     ]
    }
   ],
   "source": [
    "help(d2l.synthetic_data)"
   ]
  },
  {
   "cell_type": "code",
   "execution_count": 29,
   "id": "47674de5",
   "metadata": {},
   "outputs": [
    {
     "name": "stdout",
     "output_type": "stream",
     "text": [
      "torch.Size([1000, 2])\n",
      "torch.Size([1000, 1])\n"
     ]
    }
   ],
   "source": [
    "print(features.shape)\n",
    "print(labels.shape)"
   ]
  },
  {
   "cell_type": "markdown",
   "id": "34609602",
   "metadata": {},
   "source": [
    "## 读取数据集"
   ]
  },
  {
   "cell_type": "code",
   "execution_count": 30,
   "id": "5eea0c34",
   "metadata": {},
   "outputs": [],
   "source": [
    "batch_size = 10\n",
    "\n",
    "dataset = torch.utils.data.TensorDataset(features, labels)  # 可索引\n",
    "dataload = torch.utils.data.DataLoader(dataset=dataset, batch_size=batch_size, shuffle=True)  # 不可索引"
   ]
  },
  {
   "cell_type": "markdown",
   "id": "367115cf",
   "metadata": {},
   "source": [
    "## 网络模型"
   ]
  },
  {
   "cell_type": "code",
   "execution_count": 31,
   "id": "673a9b4f",
   "metadata": {},
   "outputs": [],
   "source": [
    "import torch.nn as nn\n",
    "class Net(nn.Module):\n",
    "    def __init__(self, input_num, output_num):\n",
    "        super().__init__()\n",
    "        self.hidden = nn.Linear(input_num, output_num)\n",
    "    \n",
    "    def forward(self, x):\n",
    "        x = self.hidden(x)\n",
    "        return x"
   ]
  },
  {
   "cell_type": "code",
   "execution_count": 65,
   "id": "5afe6149",
   "metadata": {},
   "outputs": [
    {
     "data": {
      "text/plain": [
       "tensor([[0.]])"
      ]
     },
     "execution_count": 65,
     "metadata": {},
     "output_type": "execute_result"
    }
   ],
   "source": [
    "# 初始化权重和偏置\n",
    "net.hidden.weight.data.normal_(mean=0, std=0.01)  # 正态分布填充\n",
    "net.hidden.bias.data.fill_(0)  # 零填充"
   ]
  },
  {
   "cell_type": "markdown",
   "id": "bb202097",
   "metadata": {},
   "source": [
    "## 损失函数"
   ]
  },
  {
   "cell_type": "code",
   "execution_count": 66,
   "id": "9843c2e0",
   "metadata": {},
   "outputs": [],
   "source": [
    "# 均方误差\n",
    "loss = nn.MSELoss()"
   ]
  },
  {
   "cell_type": "markdown",
   "id": "ee607fc3",
   "metadata": {},
   "source": [
    "## 优化器"
   ]
  },
  {
   "cell_type": "code",
   "execution_count": 67,
   "id": "0b6a466c",
   "metadata": {},
   "outputs": [],
   "source": [
    "# 小批量随机梯度下降\n",
    "lr = 0.03\n",
    "optimizer = torch.optim.SGD(net.parameters(), lr=lr)"
   ]
  },
  {
   "cell_type": "markdown",
   "id": "34e412af",
   "metadata": {},
   "source": [
    "## 训练"
   ]
  },
  {
   "cell_type": "code",
   "execution_count": 74,
   "id": "605767a0",
   "metadata": {},
   "outputs": [
    {
     "name": "stdout",
     "output_type": "stream",
     "text": [
      "epoch 1, loss 0.0001037598995026201\n",
      "epoch 2, loss 0.00010369334631832317\n",
      "epoch 3, loss 0.00010340638255001977\n"
     ]
    }
   ],
   "source": [
    "epochs = 3\n",
    "for epoch in range(epochs):\n",
    "    for X, y in dataload:  # 真实数据\n",
    "        l = loss(net(X), y)\n",
    "        optimizer.zero_grad()  # 反向传播前要清空梯度\n",
    "        l.backward()  # 反向传播\n",
    "        optimizer.step()  # 梯度更新\n",
    "    # 验证\n",
    "    l = loss(net(features), labels)\n",
    "    print('epoch {}, loss {}'.format(epoch + 1, l))"
   ]
  },
  {
   "cell_type": "code",
   "execution_count": 75,
   "id": "4ae4a478",
   "metadata": {},
   "outputs": [
    {
     "name": "stdout",
     "output_type": "stream",
     "text": [
      "w的估计误差： tensor([-0.0002, -0.0005])\n",
      "b的估计误差： tensor([[0.0003]])\n"
     ]
    }
   ],
   "source": [
    "w = net.hidden.weight.data\n",
    "print('w的估计误差：', true_w - w.reshape(true_w.shape))\n",
    "b = net.hidden.bias.data\n",
    "print('b的估计误差：', true_b - b)"
   ]
  }
 ],
 "metadata": {
  "kernelspec": {
   "display_name": "Python 3",
   "language": "python",
   "name": "python3"
  },
  "language_info": {
   "codemirror_mode": {
    "name": "ipython",
    "version": 3
   },
   "file_extension": ".py",
   "mimetype": "text/x-python",
   "name": "python",
   "nbconvert_exporter": "python",
   "pygments_lexer": "ipython3",
   "version": "3.8.8"
  },
  "toc": {
   "base_numbering": 1,
   "nav_menu": {},
   "number_sections": true,
   "sideBar": true,
   "skip_h1_title": true,
   "title_cell": "Table of Contents",
   "title_sidebar": "Contents",
   "toc_cell": false,
   "toc_position": {
    "height": "629.333px",
    "left": "42px",
    "top": "146px",
    "width": "341.448px"
   },
   "toc_section_display": true,
   "toc_window_display": true
  }
 },
 "nbformat": 4,
 "nbformat_minor": 5
}
