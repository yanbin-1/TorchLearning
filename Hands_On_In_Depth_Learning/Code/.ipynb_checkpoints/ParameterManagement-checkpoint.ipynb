{
 "cells": [
  {
   "cell_type": "code",
   "execution_count": 14,
   "id": "5f97ee13",
   "metadata": {},
   "outputs": [
    {
     "data": {
      "text/plain": [
       "tensor([[0.1061],\n",
       "        [0.0736]], grad_fn=<AddmmBackward0>)"
      ]
     },
     "execution_count": 14,
     "metadata": {},
     "output_type": "execute_result"
    }
   ],
   "source": [
    "import torch\n",
    "from torch import nn\n",
    "\n",
    "net = nn.Sequential(nn.Linear(4, 8), nn.ReLU(), nn.Linear(8, 1))\n",
    "X = torch.rand(size=(2, 4))\n",
    "net(X)"
   ]
  },
  {
   "cell_type": "code",
   "execution_count": 12,
   "id": "30b7b67e",
   "metadata": {},
   "outputs": [
    {
     "data": {
      "text/plain": [
       "(tensor([1., 2., 3., 4., 5.]), tensor(3.))"
      ]
     },
     "execution_count": 12,
     "metadata": {},
     "output_type": "execute_result"
    }
   ],
   "source": [
    "import torch\n",
    "import torch.nn.functional as F\n",
    "from torch import nn\n",
    "\n",
    "\n",
    "class CenteredLayer(nn.Module):\n",
    "    def __init__(self):\n",
    "        super().__init__()\n",
    "\n",
    "    def forward(self, X):\n",
    "        return X, X.mean()\n",
    "    \n",
    "net = CenteredLayer()\n",
    "net(torch.FloatTensor([1, 2, 3, 4, 5]))"
   ]
  },
  {
   "cell_type": "code",
   "execution_count": 13,
   "id": "3e98cf51",
   "metadata": {},
   "outputs": [
    {
     "data": {
      "text/plain": [
       "tensor([[0.3167, 0.9272, 0.3672, 0.8595, 0.6898, 0.3522, 0.2760, 0.2917],\n",
       "        [0.6385, 0.2112, 0.2600, 0.8825, 0.8606, 0.6230, 0.7758, 0.4398],\n",
       "        [0.8514, 0.5898, 0.8169, 0.6057, 0.6066, 0.1649, 0.3559, 0.6154],\n",
       "        [0.7945, 0.3735, 0.6501, 0.4816, 0.2316, 0.0103, 0.7122, 0.8461]])"
      ]
     },
     "execution_count": 13,
     "metadata": {},
     "output_type": "execute_result"
    }
   ],
   "source": [
    "torch.rand(4, 8)"
   ]
  },
  {
   "cell_type": "code",
   "execution_count": 15,
   "id": "e7a96d6a",
   "metadata": {},
   "outputs": [
    {
     "name": "stderr",
     "output_type": "stream",
     "text": [
      "C:\\Users\\Yan\\AppData\\Local\\Temp\\ipykernel_37680\\2161521162.py:1: UserWarning: To copy construct from a tensor, it is recommended to use sourceTensor.clone().detach() or sourceTensor.clone().detach().requires_grad_(True), rather than torch.tensor(sourceTensor).\n",
      "  torch.tensor(torch.randn(4, 8), requires_grad=True)\n"
     ]
    }
   ],
   "source": [
    "torch.tensor(torch.randn(4, 8), requires_grad=True)\n",
    "\n",
    "\n",
    "class MyLinear(nn.Module):\n",
    "    def __init__(self, in_units, units):\n",
    "        super().__init__()\n",
    "        self.weight = torch.tensor(torch.randn(in_units, units), requires_grad=True)\n",
    "        self.bias = torch.tensor(torch.randn(units, ), requires_grad=True)\n",
    "    def forward(self, X):\n",
    "        linear = torch.matmul(X, self.weight.data) + self.bias.data\n",
    "        return F.relu(linear)"
   ]
  },
  {
   "cell_type": "code",
   "execution_count": 16,
   "id": "e1bf591c",
   "metadata": {},
   "outputs": [
    {
     "name": "stderr",
     "output_type": "stream",
     "text": [
      "C:\\Users\\Yan\\AppData\\Local\\Temp\\ipykernel_37680\\2161521162.py:7: UserWarning: To copy construct from a tensor, it is recommended to use sourceTensor.clone().detach() or sourceTensor.clone().detach().requires_grad_(True), rather than torch.tensor(sourceTensor).\n",
      "  self.weight = torch.tensor(torch.randn(in_units, units), requires_grad=True)\n",
      "C:\\Users\\Yan\\AppData\\Local\\Temp\\ipykernel_37680\\2161521162.py:8: UserWarning: To copy construct from a tensor, it is recommended to use sourceTensor.clone().detach() or sourceTensor.clone().detach().requires_grad_(True), rather than torch.tensor(sourceTensor).\n",
      "  self.bias = torch.tensor(torch.randn(units, ), requires_grad=True)\n"
     ]
    },
    {
     "data": {
      "text/plain": [
       "tensor([[ 1.2642,  0.7179,  1.3105],\n",
       "        [-0.5269, -0.1581, -0.3624],\n",
       "        [ 1.1457,  0.3474, -0.4490],\n",
       "        [-0.9461, -1.3043,  0.2217],\n",
       "        [ 0.0419,  1.1437,  0.1363]], requires_grad=True)"
      ]
     },
     "execution_count": 16,
     "metadata": {},
     "output_type": "execute_result"
    }
   ],
   "source": [
    "linear = MyLinear(5, 3)\n",
    "linear.weight"
   ]
  },
  {
   "cell_type": "code",
   "execution_count": 17,
   "id": "eefaf57c",
   "metadata": {},
   "outputs": [],
   "source": [
    "class MyLinear(nn.Module):\n",
    "    def __init__(self, in_units, units):\n",
    "        super().__init__()\n",
    "        self.weight = nn.Parameter(torch.randn(in_units, units))\n",
    "        self.bias = nn.Parameter(torch.randn(units,))\n",
    "    def forward(self, X):\n",
    "        linear = torch.matmul(X, self.weight.data) + self.bias.data\n",
    "        return F.relu(linear)"
   ]
  },
  {
   "cell_type": "code",
   "execution_count": 18,
   "id": "c8f614b7",
   "metadata": {},
   "outputs": [
    {
     "data": {
      "text/plain": [
       "tensor([0, 1, 2, 3])"
      ]
     },
     "execution_count": 18,
     "metadata": {},
     "output_type": "execute_result"
    }
   ],
   "source": [
    "torch.arange(4)"
   ]
  },
  {
   "cell_type": "code",
   "execution_count": 22,
   "id": "87b4f9e9",
   "metadata": {},
   "outputs": [],
   "source": [
    "x = torch.tensor([[1, 2], [3, 4]])"
   ]
  },
  {
   "cell_type": "code",
   "execution_count": 23,
   "id": "32a6aa41",
   "metadata": {},
   "outputs": [
    {
     "data": {
      "text/plain": [
       "tensor([[1, 2],\n",
       "        [3, 4]])"
      ]
     },
     "execution_count": 23,
     "metadata": {},
     "output_type": "execute_result"
    }
   ],
   "source": [
    "x"
   ]
  },
  {
   "cell_type": "code",
   "execution_count": 24,
   "id": "fb7b16d9",
   "metadata": {},
   "outputs": [
    {
     "data": {
      "text/plain": [
       "tensor([[1, 3],\n",
       "        [2, 4]])"
      ]
     },
     "execution_count": 24,
     "metadata": {},
     "output_type": "execute_result"
    }
   ],
   "source": [
    "x.t()"
   ]
  },
  {
   "cell_type": "code",
   "execution_count": 46,
   "id": "b5b4132d",
   "metadata": {},
   "outputs": [
    {
     "name": "stdout",
     "output_type": "stream",
     "text": [
      "Conv2d output shape: \t torch.Size([1, 6, 28, 28])\n",
      "Sigmoid output shape: \t torch.Size([1, 6, 28, 28])\n",
      "AvgPool2d output shape: \t torch.Size([1, 6, 14, 14])\n",
      "Conv2d output shape: \t torch.Size([1, 16, 10, 10])\n",
      "AvgPool2d output shape: \t torch.Size([1, 16, 5, 5])\n",
      "Flatten output shape: \t torch.Size([1, 400])\n",
      "Linear output shape: \t torch.Size([1, 120])\n",
      "Sigmoid output shape: \t torch.Size([1, 120])\n",
      "Linear output shape: \t torch.Size([1, 84])\n",
      "Sigmoid output shape: \t torch.Size([1, 84])\n",
      "Linear output shape: \t torch.Size([1, 10])\n",
      "0 <class 'torch.nn.modules.conv.Conv2d'>\n",
      "1 <class 'torch.nn.modules.activation.Sigmoid'>\n",
      "2 <class 'torch.nn.modules.pooling.AvgPool2d'>\n",
      "3 <class 'torch.nn.modules.conv.Conv2d'>\n",
      "4 <class 'torch.nn.modules.pooling.AvgPool2d'>\n",
      "5 <class 'torch.nn.modules.flatten.Flatten'>\n",
      "6 <class 'torch.nn.modules.linear.Linear'>\n",
      "Linear\n",
      "7 <class 'torch.nn.modules.activation.Sigmoid'>\n",
      "8 <class 'torch.nn.modules.linear.Linear'>\n",
      "Linear\n",
      "9 <class 'torch.nn.modules.activation.Sigmoid'>\n",
      "10 <class 'torch.nn.modules.linear.Linear'>\n",
      "Linear\n"
     ]
    }
   ],
   "source": [
    "import torch\n",
    "import torch.nn as nn\n",
    "\n",
    "net = nn.Sequential(\n",
    "    nn.Conv2d(in_channels=1, out_channels=6, kernel_size=5, padding=2), \n",
    "    nn.Sigmoid(),\n",
    "    nn.AvgPool2d(kernel_size=2, stride=2),\n",
    "    \n",
    "    nn.Conv2d(in_channels=6, out_channels=16, kernel_size=5), \n",
    "    nn.AvgPool2d(kernel_size=2, stride=2),\n",
    "    nn.Flatten(),\n",
    "    \n",
    "    nn.Linear(in_features=16 * 5 * 5, out_features=120),\n",
    "    nn.Sigmoid(),\n",
    "    nn.Linear(in_features=120, out_features=84),\n",
    "    nn.Sigmoid(),\n",
    "    nn.Linear(in_features=84, out_features=10)\n",
    ")\n",
    "\n",
    "# 查看各层数据维度\n",
    "X = torch.rand(size=(1, 1, 28, 28), dtype=torch.float32)\n",
    "for layer in net:\n",
    "    X = layer(X)\n",
    "    print(layer.__class__.__name__,'output shape: \\t',X.shape)"
   ]
  },
  {
   "cell_type": "code",
   "execution_count": 39,
   "id": "56ea7b90",
   "metadata": {},
   "outputs": [],
   "source": [
    "import torch\n",
    "import torch.nn as nn\n",
    "import torchvision\n",
    "from torchvision import transforms\n",
    "from torch.utils.data import DataLoader\n",
    "\n",
    "\n",
    "def loadFastMnist(trans, batch_size, root, online=False):\n",
    "    # 加载网络上的或者已经下载好的数据集\n",
    "    if online:\n",
    "        train_dataset = torchvision.datasets.FashionMNIST(root=root, train=True, transform=trans, download=True)\n",
    "        test_dataset = torchvision.datasets.FashionMNIST(root=root, train=False, transform=trans, download=True)\n",
    "    else:\n",
    "        train_dataset = torchvision.datasets.FashionMNIST(root=root, train=True, transform=trans, download=False)\n",
    "        test_dataset = torchvision.datasets.FashionMNIST(root=root, train=False, transform=trans, download=False)\n",
    "    \n",
    "    train_loader = DataLoader(dataset=train_dataset, batch_size=batch_size, shuffle=True, num_workers=0)\n",
    "    test_loader = DataLoader(dataset=test_dataset, batch_size=batch_size, shuffle=True, num_workers=0)\n",
    "    return train_loader, test_loader\n",
    "\n",
    "def loadMyImgs(trans, batch_size, root):\n",
    "    # 加载自己制作的数据集\n",
    "    train_dataset = torchvision.datasets.ImageFolder(root, transform=trans)\n",
    "    test_dataset = torchvision.datasets.ImageFolder(root, transform=trans)\n",
    "    train_loader = DataLoader(dataset=train_dataset, batch_size=batch_size, shuffle=True, num_workers=0)\n",
    "    test_loader = DataLoader(dataset=test_dataset, batch_size=batch_size, shuffle=True, num_workers=0)\n",
    "    return train_loader, test_loader\n",
    "\n",
    "def myInitNet(net):\n",
    "    # 初始化网络权重和偏置\n",
    "    for name, model in net.named_children():\n",
    "        if type(model) == nn.Sequential:\n",
    "            for m in model:\n",
    "                if type(m) == nn.Linear:\n",
    "                    nn.init.xavier_normal_(m.weight)\n",
    "        elif type(model) == nn.Linear or type(model) == nn.Conv2d:\n",
    "            nn.init.xavier_normal_(m.weight)\n",
    "\n",
    "def train(net, loss, optimizer, train_loader, test_loader, epoches):\n",
    "    device = torch.device(\"cuda\" if torch.cuda.is_available() else \"cpu\")\n",
    "    for epoch \n",
    "    \n",
    "    \n",
    "if __name__ == \"__main__\":\n",
    "    net = nn.Sequential(\n",
    "        nn.Conv2d(in_channels=1, out_channels=6, kernel_size=5, padding=2), \n",
    "        nn.Sigmoid(),\n",
    "        nn.AvgPool2d(kernel_size=2, stride=2),\n",
    "\n",
    "        nn.Conv2d(in_channels=6, out_channels=16, kernel_size=5), \n",
    "        nn.AvgPool2d(kernel_size=2, stride=2),\n",
    "        nn.Flatten(),\n",
    "\n",
    "        nn.Linear(in_features=16 * 5 * 5, out_features=120),\n",
    "        nn.Sigmoid(),\n",
    "        nn.Linear(in_features=120, out_features=84),\n",
    "        nn.Sigmoid(),\n",
    "        nn.Linear(in_features=84, out_features=10)\n",
    "    )\n",
    "\n",
    "    loss = nn.CrossEntropyLoss(reduction = \"mean\")\n",
    "    lr = 0.9\n",
    "    optimizer = torch.optim.SGD(net.parameters(), lr=lr)\n",
    "\n",
    "    trans = transforms.Compose([\n",
    "        transforms.ToTensor()\n",
    "    ])\n",
    "    batch_size = 256\n",
    "    train_loader, test_loader = loadFastMnist(trans=trans, batch_size=batch_size, root=\"../Data/FashionMNIST\")\n",
    "    \n",
    "    epoches = 10"
   ]
  },
  {
   "cell_type": "code",
   "execution_count": null,
   "id": "77ce6d87",
   "metadata": {},
   "outputs": [],
   "source": []
  }
 ],
 "metadata": {
  "kernelspec": {
   "display_name": "Python 3 (ipykernel)",
   "language": "python",
   "name": "python3"
  },
  "language_info": {
   "codemirror_mode": {
    "name": "ipython",
    "version": 3
   },
   "file_extension": ".py",
   "mimetype": "text/x-python",
   "name": "python",
   "nbconvert_exporter": "python",
   "pygments_lexer": "ipython3",
   "version": "3.9.12"
  },
  "toc": {
   "base_numbering": 1,
   "nav_menu": {},
   "number_sections": true,
   "sideBar": true,
   "skip_h1_title": true,
   "title_cell": "Table of Contents",
   "title_sidebar": "Contents",
   "toc_cell": false,
   "toc_position": {},
   "toc_section_display": true,
   "toc_window_display": false
  }
 },
 "nbformat": 4,
 "nbformat_minor": 5
}
