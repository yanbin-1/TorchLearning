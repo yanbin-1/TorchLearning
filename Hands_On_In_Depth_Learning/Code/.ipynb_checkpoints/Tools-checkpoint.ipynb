{
 "cells": [
  {
   "cell_type": "markdown",
   "id": "9643ff03",
   "metadata": {},
   "source": [
    "## 加载数据集"
   ]
  },
  {
   "cell_type": "code",
   "execution_count": 2,
   "id": "3a373703",
   "metadata": {},
   "outputs": [],
   "source": [
    "import torchvision\n",
    "import torch\n",
    "\n",
    "def loadFaseMnist(trans, batch_size, root, download=False):\n",
    "    '''\n",
    "    下载已有图片数据集\n",
    "    trans: 变换\n",
    "    batch_size: 批大小\n",
    "    root: 数据集保存或者存在路径\n",
    "    online: 数据是否需要下载\n",
    "    '''\n",
    "    train_dataset = torchvision.datasets.FashionMNIST(root=root, train=True, transform=trans, download=download)\n",
    "    test_dataset = torchvision.datasets.FashionMNIST(root=root, train=False, transform=trans, download=download)\n",
    "    \n",
    "    train_loader = torch.utils.data.DataLoader(dataset=train_dataset, batch_size=batch_size, shuffle=True, num_workers=0)\n",
    "    test_loader = torch.utils.data.DataLoader(dataset=test_dataset, batch_size=batch_size, shuffle=True, num_workers=0)\n",
    "    \n",
    "    return train_loader, test_loadert"
   ]
  },
  {
   "cell_type": "code",
   "execution_count": null,
   "id": "24391eac",
   "metadata": {},
   "outputs": [],
   "source": [
    "def loadMyImgs(trans)"
   ]
  },
  {
   "cell_type": "markdown",
   "id": "94445cae",
   "metadata": {},
   "source": [
    "## 数据统计函数"
   ]
  },
  {
   "cell_type": "code",
   "execution_count": 1,
   "id": "c1cf8288",
   "metadata": {},
   "outputs": [],
   "source": [
    "import torch\n",
    "import torch.nn as nn"
   ]
  },
  {
   "cell_type": "code",
   "execution_count": 1,
   "id": "a29e3f9b",
   "metadata": {},
   "outputs": [],
   "source": [
    "def accuracy(y_pre, y):\n",
    "    \"\"\"训练集准确率，应用于分类问题\"\"\"\n",
    "    if len(y_pre.shape) > 1 and y_pre.shape[1] > 1:\n",
    "        y_pre = torch.argmax(y_pre, axis=1)  # 分类问题\n",
    "    cmp = (y_pre == y)\n",
    "    return float(cmp.sum())\n",
    "\n",
    "class Accumulator:\n",
    "    \"\"\"For accumulating sums over `n` variables.\"\"\"\n",
    "    def __init__(self, n):\n",
    "        \"\"\"Defined in :numref:`sec_softmax_scratch`\"\"\"\n",
    "        self.data = [0.0] * n\n",
    "\n",
    "    def add(self, *args):\n",
    "        self.data = [a + float(b) for a, b in zip(self.data, args)]\n",
    "\n",
    "    def reset(self):\n",
    "        self.data = [0.0] * len(self.data)\n",
    "\n",
    "    def __getitem__(self, idx):\n",
    "        return self.data[idx]\n",
    "    \n",
    "def evaluate_test(net, data_loader, loss):\n",
    "    \"\"\"测试数据集上进行评估\"\"\"\n",
    "    metric = Accumulator(2)  # 测试数据集上的损失，准确率\n",
    "    for X, y in data_loader:\n",
    "        out = net(X)\n",
    "        y = y.reshape(out.shape)\n",
    "        l = loss(out, y)\n",
    "        metric.add(float(l.sum()), accuracy(out, y))\n",
    "    return metric[0] / n_test, metric[1] / n_test"
   ]
  },
  {
   "cell_type": "markdown",
   "id": "edcaece6",
   "metadata": {},
   "source": [
    "## 训练函数"
   ]
  },
  {
   "cell_type": "code",
   "execution_count": 3,
   "id": "82e9e7c8",
   "metadata": {},
   "outputs": [],
   "source": [
    "def train(net, train_loader, loss, optimizer):\n",
    "    if isinstance(net, nn.Module):\n",
    "        net.train()\n",
    "    metric = Accumulator(2)  # 后面要统计训练集损失，训练集准确率\n",
    "    for X, y in train_loader:\n",
    "        y_pre = net(X)\n",
    "        l = loss(y_pre, y)\n",
    "        if isinstance(optimizer, torch.optim.Optimizer):\n",
    "            # Using PyTorch in-built optimizer & loss criterion\n",
    "            optimizer.zero_grad()\n",
    "            l.backward()\n",
    "            optimizer.step()\n",
    "        metric.add(float(l.sum()), accuracy(y_pre, y))\n",
    "    return metric[0] / n_train, metric[1] / n_train"
   ]
  }
 ],
 "metadata": {
  "kernelspec": {
   "display_name": "Python 3",
   "language": "python",
   "name": "python3"
  },
  "language_info": {
   "codemirror_mode": {
    "name": "ipython",
    "version": 3
   },
   "file_extension": ".py",
   "mimetype": "text/x-python",
   "name": "python",
   "nbconvert_exporter": "python",
   "pygments_lexer": "ipython3",
   "version": "3.8.8"
  },
  "toc": {
   "base_numbering": 1,
   "nav_menu": {},
   "number_sections": true,
   "sideBar": true,
   "skip_h1_title": true,
   "title_cell": "Table of Contents",
   "title_sidebar": "Contents",
   "toc_cell": false,
   "toc_position": {
    "height": "calc(100% - 180px)",
    "left": "10px",
    "top": "150px",
    "width": "341.438px"
   },
   "toc_section_display": true,
   "toc_window_display": true
  }
 },
 "nbformat": 4,
 "nbformat_minor": 5
}
