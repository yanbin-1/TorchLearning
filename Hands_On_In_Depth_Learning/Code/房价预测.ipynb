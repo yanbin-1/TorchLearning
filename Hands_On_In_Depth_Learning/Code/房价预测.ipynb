{
 "cells": [
  {
   "cell_type": "code",
   "execution_count": 85,
   "id": "40d5f72a",
   "metadata": {},
   "outputs": [],
   "source": [
    "import hashlib\n",
    "import os\n",
    "import tarfile\n",
    "import zipfile\n",
    "import requests\n",
    "import matplotlib.pyplot as plt"
   ]
  },
  {
   "cell_type": "markdown",
   "id": "1085f1c5",
   "metadata": {},
   "source": [
    "## 下载数据集"
   ]
  },
  {
   "cell_type": "code",
   "execution_count": 1,
   "id": "b44323a6",
   "metadata": {},
   "outputs": [
    {
     "ename": "NameError",
     "evalue": "name 'os' is not defined",
     "output_type": "error",
     "traceback": [
      "\u001b[1;31m---------------------------------------------------------------------------\u001b[0m",
      "\u001b[1;31mNameError\u001b[0m                                 Traceback (most recent call last)",
      "Input \u001b[1;32mIn [1]\u001b[0m, in \u001b[0;36m<cell line: 1>\u001b[1;34m()\u001b[0m\n\u001b[1;32m----> 1\u001b[0m \u001b[38;5;28;01mdef\u001b[39;00m \u001b[38;5;21mdownload\u001b[39m(name, cache_dir\u001b[38;5;241m=\u001b[39m\u001b[43mos\u001b[49m\u001b[38;5;241m.\u001b[39mpath\u001b[38;5;241m.\u001b[39mjoin(\u001b[38;5;124m'\u001b[39m\u001b[38;5;124m..\u001b[39m\u001b[38;5;124m'\u001b[39m, \u001b[38;5;124m'\u001b[39m\u001b[38;5;124mdata\u001b[39m\u001b[38;5;124m'\u001b[39m)):\n\u001b[0;32m      2\u001b[0m     \u001b[38;5;124;03m\"\"\"下载一个DATA_HUB中的文件，返回本地文件名\"\"\"\u001b[39;00m\n\u001b[0;32m      3\u001b[0m     \u001b[38;5;28;01massert\u001b[39;00m name \u001b[38;5;129;01min\u001b[39;00m DATA_HUB, \u001b[38;5;124mf\u001b[39m\u001b[38;5;124m\"\u001b[39m\u001b[38;5;132;01m{\u001b[39;00mname\u001b[38;5;132;01m}\u001b[39;00m\u001b[38;5;124m 不存在于 \u001b[39m\u001b[38;5;132;01m{\u001b[39;00mDATA_HUB\u001b[38;5;132;01m}\u001b[39;00m\u001b[38;5;124m\"\u001b[39m\n",
      "\u001b[1;31mNameError\u001b[0m: name 'os' is not defined"
     ]
    }
   ],
   "source": [
    "def download(name, cache_dir=os.path.join('..', 'data')):\n",
    "    \"\"\"下载一个DATA_HUB中的文件，返回本地文件名\"\"\"\n",
    "    assert name in DATA_HUB, f\"{name} 不存在于 {DATA_HUB}\"\n",
    "    url, sha1_hash = DATA_HUB[name]\n",
    "    os.makedirs(cache_dir, exist_ok=True)  # 只有在目录不存在时创建目录，目录已存在时不会抛出异常。\n",
    "    fname = os.path.join(cache_dir, url.split('/')[-1])\n",
    "    if os.path.exists(fname):\n",
    "        sha1 = hashlib.sha1()\n",
    "        with open(fname, 'rb') as f:\n",
    "            while True:\n",
    "                data = f.read(1048576)\n",
    "                if not data:\n",
    "                    break\n",
    "                sha1.update(data)\n",
    "        if sha1.hexdigest() == sha1_hash:\n",
    "            return fname  # 命中缓存\n",
    "    print(f'正在从{url}下载{fname}...')\n",
    "    r = requests.get(url, stream=True, verify=True)\n",
    "    with open(fname, 'wb') as f:\n",
    "        f.write(r.content)\n",
    "    return fname"
   ]
  },
  {
   "cell_type": "code",
   "execution_count": null,
   "id": "8ef18c28",
   "metadata": {},
   "outputs": [],
   "source": [
    "def download_extract(name, folder=None):  #@save\n",
    "    \"\"\"下载并解压zip/tar文件\"\"\"\n",
    "    fname = download(name)\n",
    "    base_dir = os.path.dirname(fname)\n",
    "    data_dir, ext = os.path.splitext(fname)\n",
    "    if ext == '.zip':\n",
    "        fp = zipfile.ZipFile(fname, 'r')\n",
    "    elif ext in ('.tar', '.gz'):\n",
    "        fp = tarfile.open(fname, 'r')\n",
    "    else:\n",
    "        assert False, '只有zip/tar文件可以被解压缩'\n",
    "    fp.extractall(base_dir)\n",
    "    return os.path.join(base_dir, folder) if folder else data_dir\n",
    "\n",
    "\n",
    "def download_all():  #@save\n",
    "    \"\"\"下载DATA_HUB中的所有文件\"\"\"\n",
    "    for name in DATA_HUB:\n",
    "        download(name)"
   ]
  },
  {
   "cell_type": "code",
   "execution_count": 88,
   "id": "fec60b13",
   "metadata": {},
   "outputs": [],
   "source": [
    "import numpy as np\n",
    "import pandas as pd\n",
    "import torch\n",
    "from torch import nn\n",
    "from d2l import torch as d2l"
   ]
  },
  {
   "cell_type": "code",
   "execution_count": 89,
   "id": "6636b5c8",
   "metadata": {},
   "outputs": [],
   "source": [
    "DATA_HUB = dict()\n",
    "DATA_URL = 'http://d2l-data.s3-accelerate.amazonaws.com/'\n",
    "\n",
    "DATA_HUB['kaggle_house_train'] = (  #@save\n",
    "    DATA_URL + 'kaggle_house_pred_train.csv',\n",
    "    '585e9cc93e70b39160e7921475f9bcd7d31219ce')\n",
    "\n",
    "DATA_HUB['kaggle_house_test'] = (  #@save\n",
    "    DATA_URL + 'kaggle_house_pred_test.csv',\n",
    "    'fa19780a7b011d9b009e8bff8e99922a8ee2eb90')"
   ]
  },
  {
   "cell_type": "code",
   "execution_count": 90,
   "id": "2e879751",
   "metadata": {},
   "outputs": [
    {
     "data": {
      "text/plain": [
       "{'kaggle_house_train': ('http://d2l-data.s3-accelerate.amazonaws.com/kaggle_house_pred_train.csv',\n",
       "  '585e9cc93e70b39160e7921475f9bcd7d31219ce'),\n",
       " 'kaggle_house_test': ('http://d2l-data.s3-accelerate.amazonaws.com/kaggle_house_pred_test.csv',\n",
       "  'fa19780a7b011d9b009e8bff8e99922a8ee2eb90')}"
      ]
     },
     "execution_count": 90,
     "metadata": {},
     "output_type": "execute_result"
    }
   ],
   "source": [
    "DATA_HUB"
   ]
  },
  {
   "cell_type": "code",
   "execution_count": 91,
   "id": "eee9ad52",
   "metadata": {},
   "outputs": [],
   "source": [
    "train_file = download(\"kaggle_house_train\")\n",
    "test_file = download(\"kaggle_house_test\")"
   ]
  },
  {
   "cell_type": "code",
   "execution_count": 92,
   "id": "77cc6c7d",
   "metadata": {},
   "outputs": [
    {
     "name": "stdout",
     "output_type": "stream",
     "text": [
      "(1460, 81)\n",
      "(1459, 80)\n"
     ]
    }
   ],
   "source": [
    "train_data = pd.read_csv(train_file)\n",
    "test_data = pd.read_csv(test_file)\n",
    "print(train_data.shape)\n",
    "print(test_data.shape)"
   ]
  },
  {
   "cell_type": "code",
   "execution_count": 93,
   "id": "a4b6b514",
   "metadata": {},
   "outputs": [
    {
     "data": {
      "text/html": [
       "<div>\n",
       "<style scoped>\n",
       "    .dataframe tbody tr th:only-of-type {\n",
       "        vertical-align: middle;\n",
       "    }\n",
       "\n",
       "    .dataframe tbody tr th {\n",
       "        vertical-align: top;\n",
       "    }\n",
       "\n",
       "    .dataframe thead th {\n",
       "        text-align: right;\n",
       "    }\n",
       "</style>\n",
       "<table border=\"1\" class=\"dataframe\">\n",
       "  <thead>\n",
       "    <tr style=\"text-align: right;\">\n",
       "      <th></th>\n",
       "      <th>Id</th>\n",
       "      <th>MSSubClass</th>\n",
       "      <th>MSZoning</th>\n",
       "      <th>LotFrontage</th>\n",
       "      <th>SaleType</th>\n",
       "      <th>SaleCondition</th>\n",
       "      <th>SalePrice</th>\n",
       "    </tr>\n",
       "  </thead>\n",
       "  <tbody>\n",
       "    <tr>\n",
       "      <th>0</th>\n",
       "      <td>1</td>\n",
       "      <td>60</td>\n",
       "      <td>RL</td>\n",
       "      <td>65.0</td>\n",
       "      <td>WD</td>\n",
       "      <td>Normal</td>\n",
       "      <td>208500</td>\n",
       "    </tr>\n",
       "    <tr>\n",
       "      <th>1</th>\n",
       "      <td>2</td>\n",
       "      <td>20</td>\n",
       "      <td>RL</td>\n",
       "      <td>80.0</td>\n",
       "      <td>WD</td>\n",
       "      <td>Normal</td>\n",
       "      <td>181500</td>\n",
       "    </tr>\n",
       "    <tr>\n",
       "      <th>2</th>\n",
       "      <td>3</td>\n",
       "      <td>60</td>\n",
       "      <td>RL</td>\n",
       "      <td>68.0</td>\n",
       "      <td>WD</td>\n",
       "      <td>Normal</td>\n",
       "      <td>223500</td>\n",
       "    </tr>\n",
       "    <tr>\n",
       "      <th>3</th>\n",
       "      <td>4</td>\n",
       "      <td>70</td>\n",
       "      <td>RL</td>\n",
       "      <td>60.0</td>\n",
       "      <td>WD</td>\n",
       "      <td>Abnorml</td>\n",
       "      <td>140000</td>\n",
       "    </tr>\n",
       "    <tr>\n",
       "      <th>4</th>\n",
       "      <td>5</td>\n",
       "      <td>60</td>\n",
       "      <td>RL</td>\n",
       "      <td>84.0</td>\n",
       "      <td>WD</td>\n",
       "      <td>Normal</td>\n",
       "      <td>250000</td>\n",
       "    </tr>\n",
       "  </tbody>\n",
       "</table>\n",
       "</div>"
      ],
      "text/plain": [
       "   Id  MSSubClass MSZoning  LotFrontage SaleType SaleCondition  SalePrice\n",
       "0   1          60       RL         65.0       WD        Normal     208500\n",
       "1   2          20       RL         80.0       WD        Normal     181500\n",
       "2   3          60       RL         68.0       WD        Normal     223500\n",
       "3   4          70       RL         60.0       WD       Abnorml     140000\n",
       "4   5          60       RL         84.0       WD        Normal     250000"
      ]
     },
     "execution_count": 93,
     "metadata": {},
     "output_type": "execute_result"
    }
   ],
   "source": [
    "# 前四个特征、最后两个特征和标签\n",
    "train_data.iloc[:5, [0, 1, 2, 3, -3, -2, -1]]"
   ]
  },
  {
   "cell_type": "code",
   "execution_count": 94,
   "id": "e040e805",
   "metadata": {},
   "outputs": [],
   "source": [
    "# 去掉Id，拼接数据训练数据\n",
    "all_features = pd.concat((train_data.iloc[:, 1:-1], test_data.iloc[:, 1:]))"
   ]
  },
  {
   "cell_type": "markdown",
   "id": "36ea8ca9",
   "metadata": {},
   "source": [
    "## 数据预处理"
   ]
  },
  {
   "cell_type": "markdown",
   "id": "4e13377e",
   "metadata": {},
   "source": [
    "### 处理数值型列，归一化"
   ]
  },
  {
   "cell_type": "code",
   "execution_count": 95,
   "id": "7ab76da6",
   "metadata": {},
   "outputs": [],
   "source": [
    "# 若无法获得测试数据，则可根据训练数据计算均值和标准差\n",
    "numeric_features = all_features.dtypes[all_features.dtypes != 'object'].index\n",
    "all_features[numeric_features] = all_features[numeric_features].apply(\n",
    "    lambda x: (x - x.mean()) / (x.std()))\n",
    "# 在标准化数据之后，所有均值消失，因此我们可以将缺失值设置为0\n",
    "all_features[numeric_features] = all_features[numeric_features].fillna(0)"
   ]
  },
  {
   "cell_type": "markdown",
   "id": "5e6ad9c2",
   "metadata": {},
   "source": [
    "### 处理文本类列，one-hot编码"
   ]
  },
  {
   "cell_type": "code",
   "execution_count": 96,
   "id": "4a246447",
   "metadata": {},
   "outputs": [
    {
     "data": {
      "text/plain": [
       "(2919, 331)"
      ]
     },
     "execution_count": 96,
     "metadata": {},
     "output_type": "execute_result"
    }
   ],
   "source": [
    "# “Dummy_na=True”将“na”（缺失值）视为有效的特征值，并为其创建指示符特征\n",
    "all_features = pd.get_dummies(all_features, dummy_na=True)\n",
    "all_features.shape"
   ]
  },
  {
   "cell_type": "markdown",
   "id": "397b10ef",
   "metadata": {},
   "source": [
    "### 划分训练集、测试集"
   ]
  },
  {
   "cell_type": "code",
   "execution_count": 97,
   "id": "3c01b52e",
   "metadata": {},
   "outputs": [],
   "source": [
    "n_train = train_data.shape[0]\n",
    "train_features = torch.tensor(all_features[:n_train].values, dtype=torch.float32)  # 可以直接这样取dataframe或series的前n行\n",
    "test_features = torch.tensor(all_features[n_train:].values, dtype=torch.float32)\n",
    "train_labels = torch.tensor(train_data[\"SalePrice\"].values.reshape(-1, 1), dtype=torch.float32)"
   ]
  },
  {
   "cell_type": "code",
   "execution_count": 98,
   "id": "18ebeffc",
   "metadata": {},
   "outputs": [],
   "source": [
    "batch_size = 64\n",
    "\n",
    "\n",
    "def load_data(features, labels, batch_size, is_train=True):\n",
    "    dataset = torch.utils.data.TensorDataset(features, labels)\n",
    "    dataloader = torch.utils.data.DataLoader(dataset, batch_size=batch_size, shuffle=is_train)\n",
    "    return dataloader"
   ]
  },
  {
   "cell_type": "markdown",
   "id": "5a14b676",
   "metadata": {},
   "source": [
    "## 训练"
   ]
  },
  {
   "cell_type": "markdown",
   "id": "5fc20629",
   "metadata": {},
   "source": [
    "首先，我们训练一个带有损失平方的线性模型。 显然线性模型很难让我们在竞赛中获胜，但线性模型提供了一种健全性检查， 以查看数据中是否存在有意义的信息。 如果我们在这里不能做得比随机猜测更好，那么我们很可能存在数据处理错误。 如果一切顺利，线性模型将作为基线（baseline）模型， 让我们直观地知道最好的模型有超出简单的模型多少."
   ]
  },
  {
   "cell_type": "code",
   "execution_count": 99,
   "id": "2cdd1e01",
   "metadata": {},
   "outputs": [],
   "source": [
    "in_features = train_features.shape[1]\n",
    "out_features = 1\n",
    "net = nn.Sequential(\n",
    "    nn.Linear(in_features, out_features)  # nn.nn.Linear支持的数据类型是torch.float32\n",
    ")\n",
    "\n",
    "lr = 5\n",
    "weight_decay = 0\n",
    "loss = nn.MSELoss()\n",
    "optimizer = torch.optim.Adam(net.parameters(), lr=lr, weight_decay=weight_decay)"
   ]
  },
  {
   "cell_type": "markdown",
   "id": "abc9097d",
   "metadata": {},
   "source": [
    "Mseloss计算的是实际值和预测值的平均平方误差，是绝对数量的误差，然而在此处应该更关心相对误差。\n",
    "解决这个问题的一种方法是用价格预测的对数来衡量差异.这样在后续自己观察比较时可以调用这个。\n",
    "但是为了保证对数的值要大于0,要先对小于0的值进行缩放。同时由于对数在小于1的时候值迅速变化,也可以将小于1的值缩放到1(如果不缩放呢？)\n",
    "但是在反向传播的时候还是使用MseLoss\n",
    "![jupyter](../Imgs/log.jpg)"
   ]
  },
  {
   "cell_type": "code",
   "execution_count": 100,
   "id": "acfbffc9",
   "metadata": {},
   "outputs": [],
   "source": [
    "def logRmse(loss, pre, label):\n",
    "    # torch.clamp(input, min, max)缩放input\n",
    "    cliped_preds = torch.clamp(pre, 1, float(\"inf\"))\n",
    "    rmse = torch.sqrt(loss(torch.log(cliped_preds), torch.log(label)))\n",
    "    return rmse.item()"
   ]
  },
  {
   "cell_type": "code",
   "execution_count": 101,
   "id": "7cd1a318",
   "metadata": {},
   "outputs": [],
   "source": [
    "def train(net, loss, optimizer, train_features, train_labels, test_features, test_labels, epochs, batch_size):\n",
    "    train_loader = load_data(train_features, train_labels, batch_size=batch_size, is_train=True)\n",
    "    train_ls, test_ls = [0] * epochs, [0] * epochs  # 这里存储自定义的logRmse，方便后续比较\n",
    "    for epoch in range(epochs):\n",
    "        net.train()\n",
    "        for X, y in train_loader:\n",
    "            y_pre = net(X)\n",
    "            l = loss(y_pre, y)  # 这里反向传播仍使用MSELoss\n",
    "            optimizer.zero_grad()\n",
    "            l.backward()\n",
    "            optimizer.step()\n",
    "            # 如果放在这里统计那就是记录了每次训练的结果，而我们不关心训练的过程，仅关心每个epoch后的损失函数结果，所以不能这样写\n",
    "            # train_ls[epoch] += logRmse(loss, y_pre, y)\n",
    "        # 应该在每个epoch后统计\n",
    "        train_ls[epoch] += logRmse(loss, net(train_features), train_labels)\n",
    "        if test_features is not None:\n",
    "            net.eval()\n",
    "            with torch.no_grad():\n",
    "                test_ls[epoch] += logRmse(loss, net(test_features), test_labels)\n",
    "    return train_ls, test_ls"
   ]
  },
  {
   "cell_type": "markdown",
   "id": "8356df30",
   "metadata": {},
   "source": [
    "## K折交叉验证"
   ]
  },
  {
   "cell_type": "code",
   "execution_count": 102,
   "id": "e534f4d6",
   "metadata": {},
   "outputs": [],
   "source": [
    "def get_k_fold_data(k, i, train_features, train_labels):\n",
    "    '''获取k折交叉验证中第i折的数据'''\n",
    "    assert k > 1 and k >= i\n",
    "    fold_size = train_features.shape[0] // k\n",
    "    X_train, y_train = None, None\n",
    "    X_valid, y_valid = None, None\n",
    "    for j in range(k):\n",
    "        idx = slice(j * fold_size, (j + 1) * fold_size)  # python切片越界不报错\n",
    "        if j == i:\n",
    "            X_valid, y_valid = train_features[idx], train_labels[idx]\n",
    "        elif X_train is None:\n",
    "            X_train, y_train = train_features[idx], train_labels[idx]\n",
    "        else:\n",
    "            X_train = torch.concat((X_train, train_features[idx]), dim=0)\n",
    "            y_train = torch.concat((y_train, train_labels[idx]), dim=0)\n",
    "    return X_train, y_train, X_valid, y_valid"
   ]
  },
  {
   "cell_type": "code",
   "execution_count": 103,
   "id": "e5131aa2",
   "metadata": {},
   "outputs": [],
   "source": [
    "def k_fold(net, loss, optimizer, k, train_features, train_labels, epochs, batch_size):\n",
    "    '''返回k折交叉验证中每折的训练和测试的平均误差'''\n",
    "    for i in range(k):\n",
    "        train_err_sum, test_err_sum = 0, 0\n",
    "        k_fold_data = get_k_fold_data(k, i, train_features, train_labels)\n",
    "        train_ls, test_ls = train(net, loss, optimizer, *k_fold_data, epochs, batch_size)\n",
    "        train_err_sum += train_ls[-1]\n",
    "        test_err_sum += test_ls[-1]\n",
    "        if i == 0:\n",
    "            plt.plot(list(range(1, epochs + 1)), train_ls, label=\"Train\")\n",
    "            plt.plot(list(range(1, epochs + 1)), test_ls, label=\"Test\")\n",
    "            plt.legend()\n",
    "            plt.show()\n",
    "        print(\"第{}折，训练集logRmse：{}，测试集logRmse：{}\".format(i + 1, train_err_sum, test_err_sum))"
   ]
  },
  {
   "cell_type": "code",
   "execution_count": 104,
   "id": "4147fd67",
   "metadata": {},
   "outputs": [
    {
     "data": {
      "image/png": "[encoded data removed]",
      "text/plain": [
       "<Figure size 432x288 with 1 Axes>"
      ]
     },
     "metadata": {
      "needs_background": "light"
     },
     "output_type": "display_data"
    },
    {
     "name": "stdout",
     "output_type": "stream",
     "text": [
      "第1折，训练集logRmse：0.16983939707279205，测试集logRmse：0.15673945844173431\n",
      "第2折，训练集logRmse：0.14171631634235382，测试集logRmse：0.15171721577644348\n",
      "第3折，训练集logRmse：0.12893924117088318，测试集logRmse：0.13735662400722504\n",
      "第4折，训练集logRmse：0.12924261391162872，测试集logRmse：0.12447138130664825\n",
      "第5折，训练集logRmse：0.12092864513397217，测试集logRmse：0.14746983349323273\n"
     ]
    }
   ],
   "source": [
    "k = 5\n",
    "epochs = 100\n",
    "k_fold(net, loss, optimizer, k, train_features, train_labels, epochs, batch_size)"
   ]
  },
  {
   "cell_type": "markdown",
   "id": "502382e3",
   "metadata": {},
   "source": [
    "## 最终训练"
   ]
  },
  {
   "cell_type": "code",
   "execution_count": 122,
   "id": "ac001c42",
   "metadata": {},
   "outputs": [],
   "source": [
    "def train_and_pred(net, loss, optimizer, train_features, train_labels, test_data, epochs, batch_size):\n",
    "    train_ls, _ = train(net, loss, optimizer, train_features, train_labels, None, None, epochs, batch_size)\n",
    "    plt.plot(list(range(1, epochs + 1)), train_ls, label=\"Train\")\n",
    "    plt.legend()\n",
    "    print(\"训练集logRmse：\", train_ls[-1])\n",
    "    pred = net(train_features).detach().numpy()\n",
    "    test_data[\"SalePrice\"] = pd.Series(pred.squeeze())  # 必须是一维\n",
    "    submission = pd.concat([test_data['Id'], test_data['SalePrice']], axis=1)\n",
    "    submission.to_csv('./submission.csv', index=False)\n",
    "    plt.show()"
   ]
  },
  {
   "cell_type": "code",
   "execution_count": 123,
   "id": "1bd46557",
   "metadata": {},
   "outputs": [
    {
     "name": "stdout",
     "output_type": "stream",
     "text": [
      "训练集logRmse： 0.12177379429340363\n"
     ]
    },
    {
     "data": {
      "image/png": "[encoded data removed]",
      "text/plain": [
       "<Figure size 432x288 with 1 Axes>"
      ]
     },
     "metadata": {
      "needs_background": "light"
     },
     "output_type": "display_data"
    }
   ],
   "source": [
    "train_and_pred(net, loss, optimizer, train_features, train_labels, test_data, epochs, batch_size)"
   ]
  },
  {
   "cell_type": "code",
   "execution_count": null,
   "id": "747cfff0",
   "metadata": {},
   "outputs": [],
   "source": []
  }
 ],
 "metadata": {
  "kernelspec": {
   "display_name": "Python 3 (ipykernel)",
   "language": "python",
   "name": "python3"
  },
  "language_info": {
   "codemirror_mode": {
    "name": "ipython",
    "version": 3
   },
   "file_extension": ".py",
   "mimetype": "text/x-python",
   "name": "python",
   "nbconvert_exporter": "python",
   "pygments_lexer": "ipython3",
   "version": "3.9.12"
  },
  "toc": {
   "base_numbering": 1,
   "nav_menu": {},
   "number_sections": true,
   "sideBar": true,
   "skip_h1_title": true,
   "title_cell": "Table of Contents",
   "title_sidebar": "Contents",
   "toc_cell": false,
   "toc_position": {
    "height": "calc(100% - 180px)",
    "left": "10px",
    "top": "150px",
    "width": "341.448px"
   },
   "toc_section_display": true,
   "toc_window_display": true
  }
 },
 "nbformat": 4,
 "nbformat_minor": 5
}
